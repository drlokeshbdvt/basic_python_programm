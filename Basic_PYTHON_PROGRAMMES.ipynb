{
 "cells": [
  {
   "cell_type": "code",
   "execution_count": 1,
   "id": "dcb92b67",
   "metadata": {},
   "outputs": [
    {
     "name": "stdout",
     "output_type": "stream",
     "text": [
      "5\n"
     ]
    }
   ],
   "source": [
    "# write a python programme that can output a length of a string\n",
    "# the first by using a built in function \n",
    "print(len('hello'))"
   ]
  },
  {
   "cell_type": "code",
   "execution_count": 2,
   "id": "44bbbf7a",
   "metadata": {},
   "outputs": [],
   "source": [
    "# CREATE A FUNCTION THAT CAN PRINT THE LENGTH OF A STRING\n",
    "# DO NOT USE THE BUILT IN FUNCTION \n",
    "# BELOW IS A FUNCTION NAMED lenth THAT TAKES IN A STRING AND PRINTS THE LENGTH OF THE STRING \n",
    "def lenth(a):\n",
    "    count=0\n",
    "    for i in a:\n",
    "        count=count+1\n",
    "    print(count)\n",
    "    "
   ]
  },
  {
   "cell_type": "code",
   "execution_count": 3,
   "id": "3f9e95db",
   "metadata": {
    "scrolled": true
   },
   "outputs": [
    {
     "name": "stdout",
     "output_type": "stream",
     "text": [
      "5\n"
     ]
    }
   ],
   "source": [
    "lenth('hello')"
   ]
  },
  {
   "cell_type": "code",
   "execution_count": 4,
   "id": "0e9d2fbd",
   "metadata": {},
   "outputs": [
    {
     "data": {
      "text/plain": [
       "<function __main__.lenth(a)>"
      ]
     },
     "execution_count": 4,
     "metadata": {},
     "output_type": "execute_result"
    }
   ],
   "source": [
    "lenth"
   ]
  },
  {
   "cell_type": "code",
   "execution_count": 5,
   "id": "7a1fe27d",
   "metadata": {},
   "outputs": [
    {
     "name": "stdout",
     "output_type": "stream",
     "text": [
      "11\n"
     ]
    }
   ],
   "source": [
    "lenth('hello world')"
   ]
  },
  {
   "cell_type": "code",
   "execution_count": 6,
   "id": "7ff37200",
   "metadata": {},
   "outputs": [
    {
     "name": "stdout",
     "output_type": "stream",
     "text": [
      "T\n"
     ]
    }
   ],
   "source": [
    "# WRITE A PYTHON PROGRAMME THAT CAN PRINT THE CHARCTER OF A STRING AT  A PARTICULAR INDEX\n",
    "# IF THE STRING IS EMPTY IT SHOULD RETURN THE STRING IS EMPTY\n",
    "# IF THE INDEX IS OUT OF RANGE THEN THE PROGRAM SHOULD PRINT THE INDEX IS OUT OF RANGE\n",
    "string ='PYTHON'\n",
    "index = 2\n",
    "if len(string)==0:\n",
    "    print('the string is empty')\n",
    "elif index>len(string):\n",
    "    print('index is out of range')\n",
    "else:\n",
    "    print(string[index])"
   ]
  },
  {
   "cell_type": "code",
   "execution_count": 7,
   "id": "0380d797",
   "metadata": {},
   "outputs": [
    {
     "name": "stdout",
     "output_type": "stream",
     "text": [
      "esuaceb\n"
     ]
    }
   ],
   "source": [
    "# WRITE A PYTHON PROGRAM THAT CAN REVERSE THE STRING\n",
    "# IF THE STRING IS EMPTY PRINT IT HAS INTACT\n",
    "string = 'because'\n",
    "if len(string)==0:\n",
    "    print('')\n",
    "else:\n",
    "    print(string[::-1])"
   ]
  },
  {
   "cell_type": "code",
   "execution_count": 8,
   "id": "94574a75",
   "metadata": {},
   "outputs": [
    {
     "name": "stdout",
     "output_type": "stream",
     "text": [
      "esuaceb\n"
     ]
    }
   ],
   "source": [
    "# we can use a built in function called reversed\n",
    "# the reversed method returns each charcter as a list\n",
    "# to this we need to use the join function \n",
    "# the join function takes in an iterator as an argument\n",
    "\n",
    "string= 'because'\n",
    "reverse = ''.join(reversed(string))\n",
    "print(reverse)\n",
    "\n"
   ]
  },
  {
   "cell_type": "code",
   "execution_count": 21,
   "id": "95ef57b0",
   "metadata": {},
   "outputs": [
    {
     "name": "stdout",
     "output_type": "stream",
     "text": [
      "ayyy\n"
     ]
    }
   ],
   "source": [
    "# write a python programme that prints the first and last three characters of a given string\n",
    "# if the given string has less than six characters then print  blank\n",
    "string='amazinglyyy'\n",
    "if len(string)<6:\n",
    "    print('')\n",
    "else:\n",
    "    new_string= string[0]+string[-3:]\n",
    "    print(new_string)\n",
    "    "
   ]
  },
  {
   "cell_type": "code",
   "execution_count": 15,
   "id": "e1083c22",
   "metadata": {},
   "outputs": [
    {
     "data": {
      "text/plain": [
       "3"
      ]
     },
     "execution_count": 15,
     "metadata": {},
     "output_type": "execute_result"
    }
   ],
   "source": [
    "len(string)"
   ]
  },
  {
   "cell_type": "code",
   "execution_count": 15,
   "id": "26ae5799",
   "metadata": {},
   "outputs": [
    {
     "name": "stdout",
     "output_type": "stream",
     "text": [
      "hnsy"
     ]
    }
   ],
   "source": [
    "# WRITE A PYTHON PROGRAM THAT PRINTS ONLY THOSE CHARACTERS THAT ARE AT EVEN INDICIES LOCATION\n",
    "# IF THE LENGHT OF THE STRING IS LESS THAN ONE PRINT THE STRING AS IT IS\n",
    "string = 'honesty'\n",
    "if len(string)<=1:\n",
    "    print(string)\n",
    "else:\n",
    "    for i in range(len(string)):\n",
    "        if i%2==0:\n",
    "            new_string= string[i]\n",
    "            print(new_string,end='')"
   ]
  },
  {
   "cell_type": "code",
   "execution_count": 16,
   "id": "27250a83",
   "metadata": {},
   "outputs": [
    {
     "name": "stdout",
     "output_type": "stream",
     "text": [
      "hnsl\n"
     ]
    }
   ],
   "source": [
    "# for the same coding task an alternate solution \n",
    "string ='honestly'\n",
    "new_string = ''\n",
    "for i in range(len(string)):\n",
    "    if i%2==0:\n",
    "        new_string+=string[i]\n",
    "print(new_string)        \n",
    "        "
   ]
  },
  {
   "cell_type": "code",
   "execution_count": 18,
   "id": "1fdca31f",
   "metadata": {},
   "outputs": [
    {
     "name": "stdout",
     "output_type": "stream",
     "text": [
      "the string contains only numbers\n"
     ]
    }
   ],
   "source": [
    "# write a python programme that checks weather a string contains only numbers\n",
    "\n",
    "string1= '1233'\n",
    "if string1.isnumeric():\n",
    "    print('the string contains only numbers')\n",
    "else:\n",
    "    print('the string has characters')"
   ]
  },
  {
   "cell_type": "code",
   "execution_count": 21,
   "id": "bbb21f94",
   "metadata": {},
   "outputs": [
    {
     "name": "stdout",
     "output_type": "stream",
     "text": [
      "amzing\n"
     ]
    }
   ],
   "source": [
    "# write a python programme that prints the string whitout the character at a specified index\n",
    "# if the index is out of range print the string as it is \n",
    "\n",
    "string2 = 'amazing'\n",
    "index =2\n",
    "new_string2=''\n",
    "\n",
    "if index>len(string2):\n",
    "    print(string2)\n",
    "else:\n",
    "    for i in range(len(string2)):\n",
    "        if i!=index:\n",
    "            new_string2=new_string2+string2[i]\n",
    "    print(new_string2)    \n"
   ]
  },
  {
   "cell_type": "code",
   "execution_count": 23,
   "id": "5ba494c9",
   "metadata": {},
   "outputs": [
    {
     "name": "stdout",
     "output_type": "stream",
     "text": [
      "wwesome\n"
     ]
    }
   ],
   "source": [
    "# WRITE A PROGRAMME THAT TAKES AN INPUT STRING, AND REPLACE A CHARACTER WITHIN THE STRING WITH A NEW CHARACTER\n",
    "# without using the built in function\n",
    "\n",
    "string3='awesome'\n",
    "curr_char='a'\n",
    "new_char= 'w'\n",
    "new_string3 =''\n",
    "\n",
    "for char in string3:\n",
    "    if char==curr_char:\n",
    "        new_string3+=new_char\n",
    "    else:\n",
    "        new_string3+=char\n",
    "print(new_string3)    \n",
    "    "
   ]
  },
  {
   "cell_type": "code",
   "execution_count": 26,
   "id": "79859e45",
   "metadata": {},
   "outputs": [
    {
     "name": "stdout",
     "output_type": "stream",
     "text": [
      "wwesome\n"
     ]
    }
   ],
   "source": [
    "# WRITE A PROGRAMME THAT TAKES AN INPUT STRING, AND REPLACE A CHARACTER WITHIN THE STRING WITH A NEW CHARACTER\n",
    "# using the built in function\n",
    "\n",
    "string3='awesome'\n",
    "curr_char='a'\n",
    "new_char= 'w'\n",
    "new_string3 =''\n",
    "\n",
    "new_string3 = string3.replace(curr_char,new_char)\n",
    "print(new_string3)"
   ]
  },
  {
   "cell_type": "code",
   "execution_count": 28,
   "id": "6ad9188a",
   "metadata": {},
   "outputs": [
    {
     "name": "stdout",
     "output_type": "stream",
     "text": [
      "hello.how.are.you\n"
     ]
    }
   ],
   "source": [
    "# write a python programe that replaces the comma with a period\n",
    "\n",
    "string4 = 'hello,how,are,you'\n",
    "string4_new = string4.replace(',','.')\n",
    "print(string4_new)"
   ]
  },
  {
   "cell_type": "code",
   "execution_count": null,
   "id": "2bdfa8a1",
   "metadata": {},
   "outputs": [],
   "source": []
  },
  {
   "cell_type": "code",
   "execution_count": null,
   "id": "8c7a94a7",
   "metadata": {},
   "outputs": [],
   "source": []
  },
  {
   "cell_type": "code",
   "execution_count": null,
   "id": "417174c3",
   "metadata": {},
   "outputs": [],
   "source": []
  }
 ],
 "metadata": {
  "kernelspec": {
   "display_name": "Python 3 (ipykernel)",
   "language": "python",
   "name": "python3"
  },
  "language_info": {
   "codemirror_mode": {
    "name": "ipython",
    "version": 3
   },
   "file_extension": ".py",
   "mimetype": "text/x-python",
   "name": "python",
   "nbconvert_exporter": "python",
   "pygments_lexer": "ipython3",
   "version": "3.9.7"
  }
 },
 "nbformat": 4,
 "nbformat_minor": 5
}
